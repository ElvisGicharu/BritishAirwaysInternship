{
 "cells": [
  {
   "cell_type": "code",
   "execution_count": 1,
   "metadata": {},
   "outputs": [],
   "source": [
    "import requests\n",
    "from bs4 import BeautifulSoup\n",
    "import pandas as pd\n",
    "import numpy as np"
   ]
  },
  {
   "cell_type": "code",
   "execution_count": 2,
   "metadata": {},
   "outputs": [],
   "source": [
    "#create an empty list to collect all reviews\n",
    "reviews  = []\n",
    "\n",
    "#create an empty list to collect rating stars\n",
    "stars = []\n",
    "\n",
    "#create an empty list to collect date\n",
    "date = []\n",
    "\n",
    "#create an empty list to collect country the reviewer is from\n",
    "country = []"
   ]
  },
  {
   "cell_type": "code",
   "execution_count": 3,
   "metadata": {},
   "outputs": [],
   "source": [
    "for i in range(1,36):\n",
    "    url=f\"https://www.airlinequality.com/airline-reviews/british-airways/page/{i}/\"\n",
    "    response=requests.get(url)\n",
    "    response=response.content\n",
    "    \n",
    "    soup=BeautifulSoup(response,'html.parser')\n",
    "    # print(soup)\n",
    "    # Where i'll be using as the scraping foundation\n",
    "    foundations=soup.find('article',class_='comp comp_reviews-airline querylist position-content')\n",
    "    # print(foundation)\n",
    "    \n",
    "    # reviews scraping\n",
    "    for foundation in foundations.find_all('div', class_=\"text_content\"):\n",
    "        reviews.append(foundation.text)\n",
    "\n",
    "    \n",
    "    # ratings(stars) scraping\n",
    "    for foundation in foundations.find_all('div',class_=\"rating-10\"):\n",
    "        x=foundation.span.text\n",
    "        stars.append(x)  \n",
    "        \n",
    "        # time scraping\n",
    "    for foundation in foundations.find_all('time'):\n",
    "        foundation=foundation.text\n",
    "        date.append(foundation)\n",
    "        \n",
    "        \n",
    "    for foundation in foundations.find_all('h3',class_='text_sub_header userStatusWrapper'):\n",
    "        foundation=foundation.span.next_sibling.text.strip(\"  ()\")\n",
    "        country.append(foundation)"
   ]
  },
  {
   "cell_type": "code",
   "execution_count": 4,
   "metadata": {},
   "outputs": [],
   "source": [
    "# Make sure that all they all have the same length\n",
    "stars=stars[:370]\n",
    "date=date[:370]\n",
    "reviews=reviews[:370]\n"
   ]
  },
  {
   "cell_type": "code",
   "execution_count": 5,
   "metadata": {},
   "outputs": [
    {
     "name": "stdout",
     "output_type": "stream",
     "text": [
      "350\n"
     ]
    }
   ],
   "source": [
    "print(len(reviews))"
   ]
  },
  {
   "cell_type": "code",
   "execution_count": 6,
   "metadata": {},
   "outputs": [
    {
     "data": {
      "text/plain": [
       "350"
      ]
     },
     "execution_count": 6,
     "metadata": {},
     "output_type": "execute_result"
    }
   ],
   "source": [
    "len(country)"
   ]
  },
  {
   "cell_type": "code",
   "execution_count": 8,
   "metadata": {},
   "outputs": [
    {
     "data": {
      "text/html": [
       "<div>\n",
       "<style scoped>\n",
       "    .dataframe tbody tr th:only-of-type {\n",
       "        vertical-align: middle;\n",
       "    }\n",
       "\n",
       "    .dataframe tbody tr th {\n",
       "        vertical-align: top;\n",
       "    }\n",
       "\n",
       "    .dataframe thead th {\n",
       "        text-align: right;\n",
       "    }\n",
       "</style>\n",
       "<table border=\"1\" class=\"dataframe\">\n",
       "  <thead>\n",
       "    <tr style=\"text-align: right;\">\n",
       "      <th></th>\n",
       "      <th>reviews</th>\n",
       "      <th>stars</th>\n",
       "      <th>date</th>\n",
       "      <th>country</th>\n",
       "    </tr>\n",
       "  </thead>\n",
       "  <tbody>\n",
       "    <tr>\n",
       "      <th>0</th>\n",
       "      <td>✅ Trip Verified |  Easy check in a T5. Galleri...</td>\n",
       "      <td>8</td>\n",
       "      <td>13th August 2023</td>\n",
       "      <td>United Kingdom</td>\n",
       "    </tr>\n",
       "    <tr>\n",
       "      <th>1</th>\n",
       "      <td>Not Verified |  Flight delayed by an hour, it ...</td>\n",
       "      <td>2</td>\n",
       "      <td>12th August 2023</td>\n",
       "      <td>United States</td>\n",
       "    </tr>\n",
       "    <tr>\n",
       "      <th>2</th>\n",
       "      <td>Not Verified | The staff are very rude and not...</td>\n",
       "      <td>2</td>\n",
       "      <td>11th August 2023</td>\n",
       "      <td>United Kingdom</td>\n",
       "    </tr>\n",
       "    <tr>\n",
       "      <th>3</th>\n",
       "      <td>✅ Trip Verified |  Good domestic flight operat...</td>\n",
       "      <td>10</td>\n",
       "      <td>8th August 2023</td>\n",
       "      <td>United Kingdom</td>\n",
       "    </tr>\n",
       "    <tr>\n",
       "      <th>4</th>\n",
       "      <td>Not Verified | Failed at all basic travel fund...</td>\n",
       "      <td>1</td>\n",
       "      <td>8th August 2023</td>\n",
       "      <td>Canada</td>\n",
       "    </tr>\n",
       "  </tbody>\n",
       "</table>\n",
       "</div>"
      ],
      "text/plain": [
       "                                             reviews stars              date  \\\n",
       "0  ✅ Trip Verified |  Easy check in a T5. Galleri...     8  13th August 2023   \n",
       "1  Not Verified |  Flight delayed by an hour, it ...     2  12th August 2023   \n",
       "2  Not Verified | The staff are very rude and not...     2  11th August 2023   \n",
       "3  ✅ Trip Verified |  Good domestic flight operat...    10   8th August 2023   \n",
       "4  Not Verified | Failed at all basic travel fund...     1   8th August 2023   \n",
       "\n",
       "          country  \n",
       "0  United Kingdom  \n",
       "1   United States  \n",
       "2  United Kingdom  \n",
       "3  United Kingdom  \n",
       "4          Canada  "
      ]
     },
     "execution_count": 8,
     "metadata": {},
     "output_type": "execute_result"
    }
   ],
   "source": []
  },
  {
   "cell_type": "code",
   "execution_count": 7,
   "metadata": {},
   "outputs": [
    {
     "name": "stdout",
     "output_type": "stream",
     "text": [
      "                                               reviews stars  \\\n",
      "0    ✅ Trip Verified |  Easy check in a T5. Galleri...     8   \n",
      "1    Not Verified |  Flight delayed by an hour, it ...     2   \n",
      "2    Not Verified | The staff are very rude and not...     2   \n",
      "3    ✅ Trip Verified |  Good domestic flight operat...    10   \n",
      "4    Not Verified | Failed at all basic travel fund...     1   \n",
      "..                                                 ...   ...   \n",
      "345  Not Verified |  Our main complaint is that the...     2   \n",
      "346  ✅ Trip Verified |  Complete and utter chaos at...     1   \n",
      "347  Not Verified |  Feb 25, 2022. We show up at th...     1   \n",
      "348  ✅ Trip Verified |  British Airways are in the ...     3   \n",
      "349  ✅ Trip Verified |  We flew to Funchal, Madeira...     4   \n",
      "\n",
      "                 date         country  \n",
      "0    13th August 2023  United Kingdom  \n",
      "1    12th August 2023   United States  \n",
      "2    11th August 2023  United Kingdom  \n",
      "3     8th August 2023  United Kingdom  \n",
      "4     8th August 2023          Canada  \n",
      "..                ...             ...  \n",
      "345   31st March 2022  United Kingdom  \n",
      "346   31st March 2022  United Kingdom  \n",
      "347   30th March 2022   United States  \n",
      "348   29th March 2022  United Kingdom  \n",
      "349   29th March 2022  United Kingdom  \n",
      "\n",
      "[350 rows x 4 columns]\n"
     ]
    }
   ],
   "source": [
    "df = pd.DataFrame({\"reviews\":reviews,\"stars\": stars, \"date\":date, \"country\": country})\n",
    "# \n",
    "print(df)"
   ]
  },
  {
   "cell_type": "code",
   "execution_count": null,
   "metadata": {},
   "outputs": [],
   "source": [
    "df.to_csv('data/reviews.csv')"
   ]
  }
 ],
 "metadata": {
  "kernelspec": {
   "display_name": "Python 3",
   "language": "python",
   "name": "python3"
  },
  "language_info": {
   "codemirror_mode": {
    "name": "ipython",
    "version": 3
   },
   "file_extension": ".py",
   "mimetype": "text/x-python",
   "name": "python",
   "nbconvert_exporter": "python",
   "pygments_lexer": "ipython3",
   "version": "3.11.4"
  },
  "orig_nbformat": 4
 },
 "nbformat": 4,
 "nbformat_minor": 2
}
