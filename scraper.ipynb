{
 "cells": [
  {
   "cell_type": "code",
   "execution_count": 1,
   "metadata": {},
   "outputs": [],
   "source": [
    "import requests\n",
    "from bs4 import BeautifulSoup\n",
    "import pandas as pd\n",
    "import numpy as np"
   ]
  },
  {
   "cell_type": "code",
   "execution_count": 2,
   "metadata": {},
   "outputs": [],
   "source": [
    "#create an empty list to collect all reviews\n",
    "reviews  = []\n",
    "\n",
    "#create an empty list to collect rating stars\n",
    "stars = []\n",
    "\n",
    "#create an empty list to collect date\n",
    "date = []\n",
    "\n",
    "#create an empty list to collect country the reviewer is from\n",
    "country = []"
   ]
  },
  {
   "cell_type": "code",
   "execution_count": 18,
   "metadata": {},
   "outputs": [],
   "source": [
    "for i in range(1,36):\n",
    "    url=f\"https://www.airlinequality.com/airline-reviews/british-airways/page/{i}/\"\n",
    "    response=requests.get(url)\n",
    "    response=response.content\n",
    "    \n",
    "    soup=BeautifulSoup(response,'html.parser')\n",
    "    # print(soup)\n",
    "    # Where i'll be using as the scraping foundation\n",
    "    foundations=soup.find('article',class_='comp comp_reviews-airline querylist position-content')\n",
    "    # print(foundation)\n",
    "    \n",
    "    # reviews scraping\n",
    "    for foundation in foundations.find_all('div', class_=\"text_content\"):\n",
    "        reviews.append(foundation.text)\n",
    "\n",
    "    \n",
    "    # ratings(stars) scraping\n",
    "    for foundation in foundations.find_all('div',class_=\"rating-10\"):\n",
    "        x=foundation.span.text\n",
    "        stars.append(x)  \n",
    "        \n",
    "        # time scraping\n",
    "    for foundation in foundations.find_all('time'):\n",
    "        foundation=foundation.text\n",
    "        date.append(foundation)\n",
    "        \n",
    "        \n",
    "    for foundation in foundations.find_all('h3',class_='text_sub_header userStatusWrapper'):\n",
    "        foundation=foundation.span.next_sibling.text.strip(\"  ()\")\n",
    "        country.append(foundation)"
   ]
  },
  {
   "cell_type": "code",
   "execution_count": 25,
   "metadata": {},
   "outputs": [],
   "source": [
    "# Make sure that all they all have the same length\n",
    "stars=stars[:370]\n",
    "date=date[:370]\n",
    "reviews=reviews[:370]\n"
   ]
  },
  {
   "cell_type": "code",
   "execution_count": 27,
   "metadata": {},
   "outputs": [
    {
     "name": "stdout",
     "output_type": "stream",
     "text": [
      "370\n"
     ]
    }
   ],
   "source": [
    "print(len(reviews))"
   ]
  },
  {
   "cell_type": "code",
   "execution_count": 28,
   "metadata": {},
   "outputs": [
    {
     "data": {
      "text/plain": [
       "370"
      ]
     },
     "execution_count": 28,
     "metadata": {},
     "output_type": "execute_result"
    }
   ],
   "source": [
    "len(country)"
   ]
  },
  {
   "cell_type": "code",
   "execution_count": 30,
   "metadata": {},
   "outputs": [],
   "source": [
    "df = pd.DataFrame({\"reviews\":reviews,\"stars\": stars, \"date\":date, \"country\": country})\n",
    "df.to_csv('data/reviews.csv')\n"
   ]
  }
 ],
 "metadata": {
  "kernelspec": {
   "display_name": "Python 3",
   "language": "python",
   "name": "python3"
  },
  "language_info": {
   "codemirror_mode": {
    "name": "ipython",
    "version": 3
   },
   "file_extension": ".py",
   "mimetype": "text/x-python",
   "name": "python",
   "nbconvert_exporter": "python",
   "pygments_lexer": "ipython3",
   "version": "3.11.4"
  },
  "orig_nbformat": 4
 },
 "nbformat": 4,
 "nbformat_minor": 2
}
